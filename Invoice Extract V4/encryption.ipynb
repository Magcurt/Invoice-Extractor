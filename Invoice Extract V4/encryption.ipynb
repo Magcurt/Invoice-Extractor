{
 "cells": [
  {
   "cell_type": "code",
   "execution_count": 1,
   "metadata": {},
   "outputs": [
    {
     "name": "stdout",
     "output_type": "stream",
     "text": [
      "hi\n"
     ]
    }
   ],
   "source": [
    "print('hi')"
   ]
  },
  {
   "cell_type": "code",
   "execution_count": 7,
   "metadata": {},
   "outputs": [
    {
     "name": "stdout",
     "output_type": "stream",
     "text": [
      "['D:\\\\Techma\\\\Projects\\\\Invoice-Extractor\\\\Invoice Extract V4\\\\src\\\\main.py', 'D:\\\\Techma\\\\Projects\\\\Invoice-Extractor\\\\Invoice Extract V4\\\\src\\\\utils.py']\n",
      "D:\\Techma\\Projects\\Invoice-Extractor\\Invoice Extract V4\\src\\main.py\n",
      "D:\\Techma\\Projects\\Invoice-Extractor\\Invoice Extract V4\\src\\utils.py\n"
     ]
    }
   ],
   "source": [
    "from cryptography.fernet import Fernet\n",
    "import glob\n",
    "\n",
    "key = b'c9PGl7mpWfZDOCo67ZymRG_mCFZmifdFusN1E5nXs0o='\n",
    "cipher = Fernet(key)\n",
    "\n",
    "# python_files = glob.glob(\"*.py\")\n",
    "python_files = [r\"D:\\Techma\\Projects\\Invoice-Extractor\\Invoice Extract V4\\src\\main.py\", r\"D:\\Techma\\Projects\\Invoice-Extractor\\Invoice Extract V4\\src\\utils.py\"]\n",
    "print(python_files)\n",
    "\n",
    "for file_name in python_files:\n",
    "  print(file_name)\n",
    "\n",
    "  with open(file_name, 'rb') as file:\n",
    "      encrypted_code = cipher.encrypt(file.read())\n",
    "\n",
    "  with open(file_name[:-3]+'.enc', 'wb') as file:\n",
    "      file.write(encrypted_code)"
   ]
  },
  {
   "cell_type": "code",
   "execution_count": 1,
   "metadata": {},
   "outputs": [],
   "source": [
    "import src.utils as util"
   ]
  },
  {
   "cell_type": "code",
   "execution_count": 4,
   "metadata": {},
   "outputs": [],
   "source": [
    "from PIL import Image\n",
    "image = Image.open(r'D:\\Aqdas\\Resources\\IMG20240430122720.jpg')"
   ]
  },
  {
   "cell_type": "code",
   "execution_count": 5,
   "metadata": {},
   "outputs": [
    {
     "name": "stdout",
     "output_type": "stream",
     "text": [
      "Start -- Extracting text from image...\n",
      "End -- Extracting text from image\n",
      "\n",
      "\n"
     ]
    }
   ],
   "source": [
    "text = util.image_to_text(image)"
   ]
  },
  {
   "cell_type": "code",
   "execution_count": null,
   "metadata": {},
   "outputs": [],
   "source": []
  },
  {
   "cell_type": "code",
   "execution_count": null,
   "metadata": {},
   "outputs": [],
   "source": []
  }
 ],
 "metadata": {
  "kernelspec": {
   "display_name": "Python 3",
   "language": "python",
   "name": "python3"
  },
  "language_info": {
   "codemirror_mode": {
    "name": "ipython",
    "version": 3
   },
   "file_extension": ".py",
   "mimetype": "text/x-python",
   "name": "python",
   "nbconvert_exporter": "python",
   "pygments_lexer": "ipython3",
   "version": "3.9.13"
  }
 },
 "nbformat": 4,
 "nbformat_minor": 2
}
